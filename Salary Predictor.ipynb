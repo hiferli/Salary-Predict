{
 "cells": [
  {
   "cell_type": "markdown",
   "id": "f9b85785",
   "metadata": {},
   "source": [
    "# Salary Prediction"
   ]
  },
  {
   "cell_type": "markdown",
   "id": "8b3f237d",
   "metadata": {},
   "source": [
    "### This is a model we are using to predict the salary of a person by considering the years of experience he/she has"
   ]
  },
  {
   "cell_type": "markdown",
   "id": "214e425a",
   "metadata": {},
   "source": [
    "##### ----------------------------------------------------------------------------------------------------------------------------------------------------------------------------------------"
   ]
  },
  {
   "cell_type": "markdown",
   "id": "1dab47a7",
   "metadata": {},
   "source": [
    "### Importing Libraries"
   ]
  },
  {
   "cell_type": "code",
   "execution_count": 1,
   "id": "8314243a",
   "metadata": {},
   "outputs": [],
   "source": [
    "# Imporint Python Libraries\n",
    "import numpy as np\n",
    "import pandas as pd\n",
    "from matplotlib import pyplot as plot "
   ]
  },
  {
   "cell_type": "code",
   "execution_count": 2,
   "id": "d39a0612",
   "metadata": {},
   "outputs": [],
   "source": [
    "# Importing Sklearn\n",
    "from sklearn.linear_model import LinearRegression\n",
    "from sklearn.model_selection import train_test_split\n",
    "from sklearn.metrics import accuracy_score"
   ]
  },
  {
   "cell_type": "markdown",
   "id": "dafd872d",
   "metadata": {},
   "source": [
    "### Importing and Cleaning the Data"
   ]
  },
  {
   "cell_type": "code",
   "execution_count": 3,
   "id": "7b172ef0",
   "metadata": {},
   "outputs": [],
   "source": [
    "# Extracting the dataset using Pandas\n",
    "salary_data = pd.read_csv(\"Salary_Data.csv\")"
   ]
  },
  {
   "cell_type": "code",
   "execution_count": 4,
   "id": "88a1c8e1",
   "metadata": {},
   "outputs": [],
   "source": [
    "# Cleaning the Data\n",
    "salary_data = salary_data.dropna()"
   ]
  },
  {
   "cell_type": "markdown",
   "id": "97062d02",
   "metadata": {},
   "source": [
    "### Studying the Data"
   ]
  },
  {
   "cell_type": "code",
   "execution_count": 5,
   "id": "27df540c",
   "metadata": {},
   "outputs": [
    {
     "data": {
      "text/html": [
       "<div>\n",
       "<style scoped>\n",
       "    .dataframe tbody tr th:only-of-type {\n",
       "        vertical-align: middle;\n",
       "    }\n",
       "\n",
       "    .dataframe tbody tr th {\n",
       "        vertical-align: top;\n",
       "    }\n",
       "\n",
       "    .dataframe thead th {\n",
       "        text-align: right;\n",
       "    }\n",
       "</style>\n",
       "<table border=\"1\" class=\"dataframe\">\n",
       "  <thead>\n",
       "    <tr style=\"text-align: right;\">\n",
       "      <th></th>\n",
       "      <th>YearsExperience</th>\n",
       "      <th>Salary</th>\n",
       "    </tr>\n",
       "  </thead>\n",
       "  <tbody>\n",
       "    <tr>\n",
       "      <th>0</th>\n",
       "      <td>1.1</td>\n",
       "      <td>39343.0</td>\n",
       "    </tr>\n",
       "    <tr>\n",
       "      <th>1</th>\n",
       "      <td>1.3</td>\n",
       "      <td>46205.0</td>\n",
       "    </tr>\n",
       "    <tr>\n",
       "      <th>2</th>\n",
       "      <td>1.5</td>\n",
       "      <td>37731.0</td>\n",
       "    </tr>\n",
       "    <tr>\n",
       "      <th>3</th>\n",
       "      <td>2.0</td>\n",
       "      <td>43525.0</td>\n",
       "    </tr>\n",
       "    <tr>\n",
       "      <th>4</th>\n",
       "      <td>2.2</td>\n",
       "      <td>39891.0</td>\n",
       "    </tr>\n",
       "  </tbody>\n",
       "</table>\n",
       "</div>"
      ],
      "text/plain": [
       "   YearsExperience   Salary\n",
       "0              1.1  39343.0\n",
       "1              1.3  46205.0\n",
       "2              1.5  37731.0\n",
       "3              2.0  43525.0\n",
       "4              2.2  39891.0"
      ]
     },
     "execution_count": 5,
     "metadata": {},
     "output_type": "execute_result"
    }
   ],
   "source": [
    "# Displaying Dataset\n",
    "salary_data.head()"
   ]
  },
  {
   "cell_type": "markdown",
   "id": "65f962fd",
   "metadata": {},
   "source": [
    "#### We can see we have we have 2 columns in the given data ie, Years of Experience and Salary.\n",
    "#### Years of experience is our Feature, using which we would develop a model that predicts the Salary of an individual."
   ]
  },
  {
   "cell_type": "code",
   "execution_count": 6,
   "id": "4fc8c1b5",
   "metadata": {},
   "outputs": [
    {
     "data": {
      "text/html": [
       "<div>\n",
       "<style scoped>\n",
       "    .dataframe tbody tr th:only-of-type {\n",
       "        vertical-align: middle;\n",
       "    }\n",
       "\n",
       "    .dataframe tbody tr th {\n",
       "        vertical-align: top;\n",
       "    }\n",
       "\n",
       "    .dataframe thead th {\n",
       "        text-align: right;\n",
       "    }\n",
       "</style>\n",
       "<table border=\"1\" class=\"dataframe\">\n",
       "  <thead>\n",
       "    <tr style=\"text-align: right;\">\n",
       "      <th></th>\n",
       "      <th>YearsExperience</th>\n",
       "      <th>Salary</th>\n",
       "    </tr>\n",
       "  </thead>\n",
       "  <tbody>\n",
       "    <tr>\n",
       "      <th>count</th>\n",
       "      <td>30.000000</td>\n",
       "      <td>30.000000</td>\n",
       "    </tr>\n",
       "    <tr>\n",
       "      <th>mean</th>\n",
       "      <td>5.313333</td>\n",
       "      <td>76003.000000</td>\n",
       "    </tr>\n",
       "    <tr>\n",
       "      <th>std</th>\n",
       "      <td>2.837888</td>\n",
       "      <td>27414.429785</td>\n",
       "    </tr>\n",
       "    <tr>\n",
       "      <th>min</th>\n",
       "      <td>1.100000</td>\n",
       "      <td>37731.000000</td>\n",
       "    </tr>\n",
       "    <tr>\n",
       "      <th>25%</th>\n",
       "      <td>3.200000</td>\n",
       "      <td>56720.750000</td>\n",
       "    </tr>\n",
       "    <tr>\n",
       "      <th>50%</th>\n",
       "      <td>4.700000</td>\n",
       "      <td>65237.000000</td>\n",
       "    </tr>\n",
       "    <tr>\n",
       "      <th>75%</th>\n",
       "      <td>7.700000</td>\n",
       "      <td>100544.750000</td>\n",
       "    </tr>\n",
       "    <tr>\n",
       "      <th>max</th>\n",
       "      <td>10.500000</td>\n",
       "      <td>122391.000000</td>\n",
       "    </tr>\n",
       "  </tbody>\n",
       "</table>\n",
       "</div>"
      ],
      "text/plain": [
       "       YearsExperience         Salary\n",
       "count        30.000000      30.000000\n",
       "mean          5.313333   76003.000000\n",
       "std           2.837888   27414.429785\n",
       "min           1.100000   37731.000000\n",
       "25%           3.200000   56720.750000\n",
       "50%           4.700000   65237.000000\n",
       "75%           7.700000  100544.750000\n",
       "max          10.500000  122391.000000"
      ]
     },
     "execution_count": 6,
     "metadata": {},
     "output_type": "execute_result"
    }
   ],
   "source": [
    "# Data Statistics\n",
    "salary_data.describe()"
   ]
  },
  {
   "cell_type": "markdown",
   "id": "5ee60af8",
   "metadata": {},
   "source": [
    "##### (The above table describes the given data)"
   ]
  },
  {
   "cell_type": "code",
   "execution_count": 7,
   "id": "1de4c7c0",
   "metadata": {},
   "outputs": [
    {
     "data": {
      "image/png": "[encoded data removed]",
      "text/plain": [
       "<Figure size 432x288 with 1 Axes>"
      ]
     },
     "metadata": {
      "needs_background": "light"
     },
     "output_type": "display_data"
    }
   ],
   "source": [
    "# Plotting Data\n",
    "salary_data.plot(kind = \"line\" , x = \"YearsExperience\" , y = \"Salary\" , label = \"Given Data\" , color = \"red\")\n",
    "plot.title(\"Given Dataset\")\n",
    "plot.show()"
   ]
  },
  {
   "cell_type": "markdown",
   "id": "b272e926",
   "metadata": {},
   "source": [
    "#### Analysing the data from the above graphs and tables, we can say that Linear Regression can be an adequate ML model for our prediction"
   ]
  },
  {
   "cell_type": "markdown",
   "id": "5acb0a4b",
   "metadata": {},
   "source": [
    "### Making Data Matrices"
   ]
  },
  {
   "cell_type": "code",
   "execution_count": 8,
   "id": "92a45ba4",
   "metadata": {},
   "outputs": [],
   "source": [
    "# Dividing the Data into X and y\n",
    "X = salary_data.YearsExperience\n",
    "y = salary_data.Salary"
   ]
  },
  {
   "cell_type": "markdown",
   "id": "bef1d411",
   "metadata": {},
   "source": [
    "#### We have declared 2 matrices X and y, which represents the Features and the Outcomes of the data respectively."
   ]
  },
  {
   "cell_type": "markdown",
   "id": "6fea8c65",
   "metadata": {},
   "source": [
    "### Splitting data to Training and Testing Segments"
   ]
  },
  {
   "cell_type": "code",
   "execution_count": 9,
   "id": "b9f24432",
   "metadata": {},
   "outputs": [],
   "source": [
    "#Splitting the Data\n",
    "train_X , test_X , train_y , test_y = train_test_split(X , y , random_state = 11)"
   ]
  },
  {
   "cell_type": "markdown",
   "id": "4a7a3a51",
   "metadata": {},
   "source": [
    "#### The data has been split into Training and Testing matrices.\n",
    "#### The Training Segment would be used for creating our model whereas the Testing Segment would be used for testing the model for a different set of data"
   ]
  },
  {
   "cell_type": "code",
   "execution_count": 10,
   "id": "1021a609",
   "metadata": {},
   "outputs": [
    {
     "data": {
      "text/plain": [
       "Text(0.5, 1.0, 'Testing vs Training Dataset')"
      ]
     },
     "execution_count": 10,
     "metadata": {},
     "output_type": "execute_result"
    },
    {
     "data": {
      "image/png": "[encoded data removed]",
      "text/plain": [
       "<Figure size 432x288 with 1 Axes>"
      ]
     },
     "metadata": {
      "needs_background": "light"
     },
     "output_type": "display_data"
    }
   ],
   "source": [
    "# Plotting the splitted data\n",
    "plot.scatter(train_X , train_y , label = \"Training Set\" , color = \"b\")\n",
    "plot.scatter(test_X , test_y , label = \"Testing Set\" , color = \"r\")\n",
    "plot.legend()\n",
    "plot.title(\"Testing vs Training Dataset\")"
   ]
  },
  {
   "cell_type": "markdown",
   "id": "0e69facb",
   "metadata": {},
   "source": [
    "##### (The above graph shows the data points distributed into Training and Testing segments)"
   ]
  },
  {
   "cell_type": "markdown",
   "id": "3fe32fc7",
   "metadata": {},
   "source": [
    "### Using SciKit Learn's Linear Regression model and Fitting the data"
   ]
  },
  {
   "cell_type": "code",
   "execution_count": 11,
   "id": "ba1217b8",
   "metadata": {},
   "outputs": [
    {
     "data": {
      "text/plain": [
       "LinearRegression()"
      ]
     },
     "execution_count": 11,
     "metadata": {},
     "output_type": "execute_result"
    }
   ],
   "source": [
    "# Creating the Model\n",
    "salary_model = LinearRegression()\n",
    "salary_model.fit(train_X.values.reshape(-1 , 1) , train_y)"
   ]
  },
  {
   "cell_type": "markdown",
   "id": "d5292351",
   "metadata": {},
   "source": [
    "#### A Linear Regression model is made and the Training data is introduced to the model "
   ]
  },
  {
   "cell_type": "markdown",
   "id": "63515090",
   "metadata": {},
   "source": [
    "### Prediction and Analysis using our model"
   ]
  },
  {
   "cell_type": "code",
   "execution_count": 12,
   "id": "129ad64d",
   "metadata": {},
   "outputs": [],
   "source": [
    "# Testing the model on our Testing Dataset\n",
    "salary_prediction = salary_model.predict(test_X.values.reshape(-1 , 1))"
   ]
  },
  {
   "cell_type": "markdown",
   "id": "ab7805ee",
   "metadata": {},
   "source": [
    "#### Plotting the Model against Testing Dataset"
   ]
  },
  {
   "cell_type": "code",
   "execution_count": 13,
   "id": "7e0ddd60",
   "metadata": {},
   "outputs": [
    {
     "data": {
      "text/plain": [
       "<matplotlib.legend.Legend at 0x21cfaca1030>"
      ]
     },
     "execution_count": 13,
     "metadata": {},
     "output_type": "execute_result"
    },
    {
     "data": {
      "image/png": "[encoded data removed]",
      "text/plain": [
       "<Figure size 432x288 with 1 Axes>"
      ]
     },
     "metadata": {
      "needs_background": "light"
     },
     "output_type": "display_data"
    }
   ],
   "source": [
    "# Comparing Predictions with the Training Data\n",
    "plot.plot(test_X , salary_prediction , label = \"Prediction Result\" , color = \"orange\")\n",
    "# plot.scatter(train_X, train_y , label = \"Actual Dataset\" , color = \"green\")\n",
    "plot.scatter(test_X , test_y , label = \"Testing Dataset\" , color = \"lightgreen\")\n",
    "plot.title(\"Regression Line and Testing Data\")\n",
    "plot.legend()"
   ]
  },
  {
   "cell_type": "markdown",
   "id": "9c6016ee",
   "metadata": {},
   "source": [
    "#### The above graph represents the models accuracy by plotting the Regression Line along with the Testing Dataset"
   ]
  },
  {
   "cell_type": "markdown",
   "id": "396a3c29",
   "metadata": {},
   "source": [
    "#### Plotting the Model with the Actual Input"
   ]
  },
  {
   "cell_type": "code",
   "execution_count": 14,
   "id": "dae8351f",
   "metadata": {},
   "outputs": [
    {
     "data": {
      "text/plain": [
       "<matplotlib.legend.Legend at 0x21cfce1beb0>"
      ]
     },
     "execution_count": 14,
     "metadata": {},
     "output_type": "execute_result"
    },
    {
     "data": {
      "image/png": "[encoded data removed]",
      "text/plain": [
       "<Figure size 432x288 with 1 Axes>"
      ]
     },
     "metadata": {
      "needs_background": "light"
     },
     "output_type": "display_data"
    }
   ],
   "source": [
    "# Plotting the given data along with the \n",
    "plot.plot(X , y , label = \"Given Data\" , color = \"red\")\n",
    "plot.plot(test_X , salary_prediction , label = \"Prediction Result\" , color = \"green\")\n",
    "plot.title(\"Actual Data and Regression Line\")\n",
    "plot.legend()"
   ]
  },
  {
   "cell_type": "markdown",
   "id": "c71fd46f",
   "metadata": {},
   "source": [
    "#### The above graph shows the Regression line along with the data given to us"
   ]
  },
  {
   "cell_type": "markdown",
   "id": "349cdc01",
   "metadata": {},
   "source": [
    "### Prediction on User Input"
   ]
  },
  {
   "cell_type": "markdown",
   "id": "de623d41",
   "metadata": {},
   "source": [
    "#### Run the cell below:"
   ]
  },
  {
   "cell_type": "code",
   "execution_count": 15,
   "id": "c7e0bc9d",
   "metadata": {},
   "outputs": [
    {
     "name": "stdout",
     "output_type": "stream",
     "text": [
      "Years of Experience: 10.5\n",
      "Your expected salary is:  124835.77763105898\n"
     ]
    }
   ],
   "source": [
    "# User Input to Prediction\n",
    "workEx = input(\"Years of Experience: \")\n",
    "ans = salary_model.predict(np.array([[float(workEx)]]))[0]\n",
    "print(\"Your expected salary is: \" , ans)"
   ]
  },
  {
   "cell_type": "code",
   "execution_count": 16,
   "id": "e4d3c6c1",
   "metadata": {},
   "outputs": [
    {
     "name": "stdout",
     "output_type": "stream",
     "text": [
      "The R^2 value of the above model is 0.9344058649705056\n"
     ]
    }
   ],
   "source": [
    "# Scoring the model\n",
    "score = salary_model.score(test_X.values.reshape(-1 , 1) , test_y)\n",
    "print(\"The R^2 value of the above model is\" , score)"
   ]
  },
  {
   "cell_type": "markdown",
   "id": "733213b1",
   "metadata": {},
   "source": [
    "### Summary"
   ]
  },
  {
   "cell_type": "markdown",
   "id": "81d4ca95",
   "metadata": {},
   "source": [
    "#### We were given a data related to Salary and Years of Experience, for which we developed a Linear Regression model to predict the Salary of an individual based on the Years of Experience."
   ]
  },
  {
   "cell_type": "markdown",
   "id": "c918f86e",
   "metadata": {},
   "source": [
    "#### The given data was distributed into Training and Testing Segments. The Training data is used to develop the model and the Testing data is used for prediction on the created model"
   ]
  },
  {
   "cell_type": "markdown",
   "id": "873ec0c5",
   "metadata": {},
   "source": [
    "#### Finally, we use the model for predicting Salaries of an individual by taking his/her Years of Experience and further estimate the $R^{2}$ value of the model. "
   ]
  },
  {
   "cell_type": "markdown",
   "id": "cbb1c4d6",
   "metadata": {},
   "source": [
    "### ~ ~ ~ ~ ~ ~ ~ ~ ~ ~ ~"
   ]
  },
  {
   "cell_type": "markdown",
   "id": "a9a8b0cd",
   "metadata": {},
   "source": [
    "# Thank You."
   ]
  }
 ],
 "metadata": {
  "kernelspec": {
   "display_name": "Python 3 (ipykernel)",
   "language": "python",
   "name": "python3"
  },
  "language_info": {
   "codemirror_mode": {
    "name": "ipython",
    "version": 3
   },
   "file_extension": ".py",
   "mimetype": "text/x-python",
   "name": "python",
   "nbconvert_exporter": "python",
   "pygments_lexer": "ipython3",
   "version": "3.10.0"
  }
 },
 "nbformat": 4,
 "nbformat_minor": 5
}
